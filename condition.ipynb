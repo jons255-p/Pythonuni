{
  "nbformat": 4,
  "nbformat_minor": 0,
  "metadata": {
    "colab": {
      "name": "Untitled17.ipynb",
      "provenance": []
    },
    "kernelspec": {
      "name": "python3",
      "display_name": "Python 3"
    }
  },
  "cells": [
    {
      "cell_type": "code",
      "metadata": {
        "id": "6cYsUAWlQYN_",
        "colab_type": "code",
        "colab": {
          "base_uri": "https://localhost:8080/",
          "height": 168
        },
        "outputId": "81eeab07-c2e6-47ed-e985-ca4ea6addeaf"
      },
      "source": [
        "#Ec. segundo gradi\n",
        "#Inicio\n",
        "from math import sqrt\n",
        "a=float(input(\"Introducir a =\"))\n",
        "b=float(input(\"Introducir b =\"))\n",
        "c=float(input(\"Introducir c =\"))\n",
        "# Calculamos la discriminante de una ec. 2º grado\n",
        "print(\"La forma de la ecuacion de 2º Grado:\")\n",
        "print(\" \")\n",
        "d=b**2-4*a*c\n",
        "#if(a==0):\n",
        "# print(\"No hay solucion\") \n",
        "if (d>0):\n",
        "  print(\"Las raices son Reales\")\n",
        "  print(\"y Diferentes:\")\n",
        "  x1=(-b + sqrt(d))/(2*a)\n",
        "  x2=(-b + sqrt(d))/(2*a)\n",
        "  print(x1)\n",
        "  print(x2)\n",
        "#Fin de la condicion\n",
        "\n",
        "if(d==0):\n",
        "  print(\"Las raices son reales\")\n",
        "  print(\"e iguaales\")\n",
        "  x1=-b/(2*a)\n",
        "  x2=x1\n",
        "  print(x1,x2)\n",
        "  #fin de la condicion\n",
        " \n",
        "if(d<0):\n",
        "  print(\"Raices complejas\")\n",
        "  print(\"y conjugadas\")\n",
        "  x1_parte_real=-b/(2*a)\n",
        "  x1_parte_im=sqrt(-d)/(2*a)\n",
        "\n",
        "  x2_parte_real= -b/(2*a)\n",
        "  x2_parte_im=-sqrt(-d)/(2*a)\n",
        "\n",
        "  print(f\"Parte real {x1_parte_real}\",f\"parte imaginaria { x1_parte_im}\")\n",
        "  #print()\n",
        "  print(\"Parte real\",x2_parte_real , \"Parte imaginaria\",x2_parte_im)\n",
        "  \n",
        "  #fin de la condicion\n",
        "  #### FIN ###\n",
        "\n",
        "\n",
        "\n",
        "\n",
        "\n"
      ],
      "execution_count": 16,
      "outputs": [
        {
          "output_type": "stream",
          "text": [
            "Introducir a =2\n",
            "Introducir b =3\n",
            "Introducir c =4\n",
            "La forma de la ecuacion de 2º Grado:\n",
            " \n",
            "Raices complejas\n",
            "y conjugadas\n",
            "Parte real -0.75 parte imaginaria 1.1989578808281798\n",
            "Parte real -0.75 Parte imaginaria -1.1989578808281798\n"
          ],
          "name": "stdout"
        }
      ]
    },
    {
      "cell_type": "code",
      "metadata": {
        "id": "rsbDUFazZaRr",
        "colab_type": "code",
        "colab": {}
      },
      "source": [
        ""
      ],
      "execution_count": 0,
      "outputs": []
    },
    {
      "cell_type": "markdown",
      "metadata": {
        "id": "3cxE88TpZu9_",
        "colab_type": "text"
      },
      "source": [
        "**CONDICIONAL SI SI_NO ( IF ELSE)**"
      ]
    },
    {
      "cell_type": "code",
      "metadata": {
        "id": "a8no0_gkZ4KR",
        "colab_type": "code",
        "colab": {
          "base_uri": "https://localhost:8080/",
          "height": 67
        },
        "outputId": "19eba29b-9a2a-414c-b4d5-93854e84ff31"
      },
      "source": [
        "#USO DE if-else\n",
        "#INICIO\n",
        "a=float(input(\"Ingrese a:\"))\n",
        "b=float(input(\"Ingrese b:\"))\n",
        "if (b != 0):\n",
        "  c=a/b\n",
        "  print(\"resiltado:\",c)\n",
        "else:\n",
        "  print(\"La division no se puede realizar\")\n",
        "#Fin del if-else"
      ],
      "execution_count": 21,
      "outputs": [
        {
          "output_type": "stream",
          "text": [
            "Ingrese a:2\n",
            "Ingrese b:3\n",
            "resiltado: 0.6666666666666666\n"
          ],
          "name": "stdout"
        }
      ]
    },
    {
      "cell_type": "code",
      "metadata": {
        "id": "O6mTMmxdbcU2",
        "colab_type": "code",
        "colab": {
          "base_uri": "https://localhost:8080/",
          "height": 101
        },
        "outputId": "81da2ba9-eaa7-43bd-db35-294a6d247e02"
      },
      "source": [
        "#Calculo de saldo\n",
        "#Inicio\n",
        "print(\"Dame saldo actual=\")\n",
        "saldo=float(input())\n",
        "#Empieza la condicion\n",
        "if (saldo<1000.00):\n",
        "  saldo = saldo*(1+0.03)\n",
        "else:\n",
        "  saldo=saldo*(1+0.04)\n",
        "#Fin del if\n",
        "print(\"saldo final es %5.2f\"%saldo)\n",
        "print(f\"saldo final es {saldo}\")\n",
        "print(\"saldo final es\", saldo)"
      ],
      "execution_count": 26,
      "outputs": [
        {
          "output_type": "stream",
          "text": [
            "Dame saldo actual=\n",
            "800\n",
            "saldo final es 824.00\n",
            "saldo final es 824.0\n",
            "saldo final es 824.0\n"
          ],
          "name": "stdout"
        }
      ]
    },
    {
      "cell_type": "code",
      "metadata": {
        "id": "DffKvpdpdTg0",
        "colab_type": "code",
        "colab": {
          "base_uri": "https://localhost:8080/",
          "height": 67
        },
        "outputId": "f665bfcd-40ae-4a9a-cfac-8af34027c695"
      },
      "source": [
        "# Solucion de una ecuacion de 1º grado con if else\n",
        "a=float(input(\"dame a=\"))\n",
        "a=float(input(\"dame b=\"))\n",
        "if (a!=0):\n",
        "  x=-b/a\n",
        "  print(x)\n",
        "else:\n",
        "  if (b==0):\n",
        "    print(\"a=0 y b=0\")\n",
        "  else:\n",
        "    print(\"No hay solucion\")\n",
        "    #Fin del if anidado\n",
        "  #Fin del if\n"
      ],
      "execution_count": 30,
      "outputs": [
        {
          "output_type": "stream",
          "text": [
            "dame a=4\n",
            "dame b=0\n",
            "No hay solucion\n"
          ],
          "name": "stdout"
        }
      ]
    },
    {
      "cell_type": "markdown",
      "metadata": {
        "id": "a0DfKm2Af_Lg",
        "colab_type": "text"
      },
      "source": [
        "**Condiciones Anidadas con If** "
      ]
    },
    {
      "cell_type": "code",
      "metadata": {
        "id": "FSNZZD5vgI9o",
        "colab_type": "code",
        "colab": {
          "base_uri": "https://localhost:8080/",
          "height": 67
        },
        "outputId": "857c57a8-19c9-4a97-9a85-8790e927f3a0"
      },
      "source": [
        "#Ec. de primer grado\n",
        "#             [                                                                    ]\n",
        "#[-----------][---------------------------------------------][---------------------]\n",
        "#         10,000                                      100 000 000\n",
        "#Inicio\n",
        "#Print(\"Introducir el valor del saldo\")\n",
        "saldo=float(input(\"introducir el saldo =\"))\n",
        "if (saldo < 10000.00):\n",
        "  saldo =saldo*(1+0.33)\n",
        "#print(\"el valor del sado es\",saldo)\n",
        "\n",
        "else:\n",
        "  if(saldo<1000000.00): # aqui empieza el if anidado\n",
        "    saldo = saldo*(1 + 0.04)\n",
        "#print(\"el valor del sado es\",saldo)\n",
        "\n",
        "  else:\n",
        "    saldo = saldo*(1 + 0.06)\n",
        "#print(\"el valor del sado es\",saldo)\n",
        "\n",
        "print(f\"El valor del saldo es {saldo}\")\n",
        "print(\"El valor del saldo es %4.f\"%saldo)\n",
        "  #fin del if anidado\n",
        "#Fin de if principal\n"
      ],
      "execution_count": 57,
      "outputs": [
        {
          "output_type": "stream",
          "text": [
            "introducir el saldo =100\n",
            "El valor del saldo es 133.0\n",
            "El valor del saldo es  133\n"
          ],
          "name": "stdout"
        }
      ]
    },
    {
      "cell_type": "code",
      "metadata": {
        "id": "bZmpii6qoPsj",
        "colab_type": "code",
        "colab": {
          "base_uri": "https://localhost:8080/",
          "height": 67
        },
        "outputId": "073e4023-400b-4b07-d320-3520e5be7075"
      },
      "source": [
        "#Ec. de primer grado\n",
        "#             [                                                                    ]\n",
        "#[-----------][---------------------------------------------][---------------------]\n",
        "#         10,000                                      100 000 000\n",
        "#Inicio\n",
        "#Print(\"Introducir el valor del saldo\")\n",
        "saldo=float(input(\"introducir el saldo =\"))\n",
        "if (saldo < 10000.00):\n",
        "  saldo =saldo*(1+0.33)\n",
        "#print(\"el valor del sado es\",saldo)\n",
        "\n",
        "elif(saldo<1000000.00): # aqui empieza el if anidado\n",
        "    saldo = saldo*(1 + 0.04)\n",
        "#print(\"el valor del sado es\",saldo)\n",
        "\n",
        "else:\n",
        "    saldo = saldo*(1 + 0.06)\n",
        "#print(\"el valor del sado es\",saldo)\n",
        "\n",
        "print(f\"El valor del saldo es {saldo}\")\n",
        "print(\"El valor del saldo es %4.f\"%saldo)\n",
        "  #fin del if anidado\n",
        "#Fin de if principal\n"
      ],
      "execution_count": 61,
      "outputs": [
        {
          "output_type": "stream",
          "text": [
            "introducir el saldo =999999\n",
            "El valor del saldo es 1039998.9600000001\n",
            "El valor del saldo es 1039999\n"
          ],
          "name": "stdout"
        }
      ]
    },
    {
      "cell_type": "code",
      "metadata": {
        "id": "WAggOSWWo2iR",
        "colab_type": "code",
        "colab": {}
      },
      "source": [
        ""
      ],
      "execution_count": 0,
      "outputs": []
    },
    {
      "cell_type": "markdown",
      "metadata": {
        "id": "UzRk16jlo6w2",
        "colab_type": "text"
      },
      "source": [
        " **CONDICIONES NUMERICAS Y LITERARIAS**"
      ]
    },
    {
      "cell_type": "code",
      "metadata": {
        "id": "5i8a6CJro_bl",
        "colab_type": "code",
        "colab": {
          "base_uri": "https://localhost:8080/",
          "height": 50
        },
        "outputId": "b729f8de-512a-4186-c0b6-e94418ddb586"
      },
      "source": [
        "#[--------------------------------][-----A-----]\n",
        "#           7.5    8.0           9.0\n",
        "#                   [      B      ]\n",
        "#            [  c   ]\n",
        "#[    R      ]\n",
        "\n",
        "calificacion=float(input(\"La calificacion es =\"))\n",
        "if (calificacion>9.0):\n",
        "  print(\"la calificacio es A\")\n",
        "else:\n",
        "  if (calificacion > 8.0):\n",
        "    print(\"La calificacion es B\")\n",
        "  else:\n",
        "    if(calificacion >= 7.5):\n",
        "      print(\"La calificacion es C\")\n",
        "    else:\n",
        "      print(\"La calificacion es R\")\n",
        "#fin\n",
        "\n"
      ],
      "execution_count": 67,
      "outputs": [
        {
          "output_type": "stream",
          "text": [
            "La calificacion es =7.6\n",
            "La calificacion es C\n"
          ],
          "name": "stdout"
        }
      ]
    },
    {
      "cell_type": "code",
      "metadata": {
        "id": "V495rtEFsOOa",
        "colab_type": "code",
        "colab": {
          "base_uri": "https://localhost:8080/",
          "height": 50
        },
        "outputId": "3562ec0a-6e70-4294-b726-2c2079f7fc99"
      },
      "source": [
        "#[--------------------------------][-----A-----]\n",
        "#           7.5    8.0           9.0\n",
        "#                   [      B      ]\n",
        "#            [  c   ]\n",
        "#[    R      ]\n",
        "\n",
        "calificacion=float(input(\"La calificacion es =\"))\n",
        "if (calificacion>9.0):\n",
        "  print(\"la calificacio es A\")\n",
        "#else:\n",
        "#  if (calificacion > 8.0):\n",
        "#   print(\"La calificacion es B\")\n",
        "#---------------------------------\n",
        "elif (calificacion >8.0):\n",
        "  print(\"La calificacion es B\")\n",
        "#--------------------------------\n",
        "# else:\n",
        "#   if(calificacion >= 7.5):\n",
        "#     print(\"La calificacion es C\")\n",
        "#---------------------------------\n",
        "elif (calificacion >=7.5):\n",
        "  print(\"La calificacion es C\")\n",
        "#---------------------------------\n",
        "#el else se coloca al nivel del elif\n",
        "else:\n",
        "      print(\"La calificacion es R\")\n",
        "#fin"
      ],
      "execution_count": 72,
      "outputs": [
        {
          "output_type": "stream",
          "text": [
            "La calificacion es =7.6\n",
            "La calificacion es C\n"
          ],
          "name": "stdout"
        }
      ]
    },
    {
      "cell_type": "markdown",
      "metadata": {
        "id": "veHK0rSndRhh",
        "colab_type": "text"
      },
      "source": [
        ""
      ]
    },
    {
      "cell_type": "markdown",
      "metadata": {
        "id": "ajFpZdowtjfU",
        "colab_type": "text"
      },
      "source": [
        "**Condicion con variables logicas**"
      ]
    },
    {
      "cell_type": "code",
      "metadata": {
        "id": "8iR4EAXmtnTy",
        "colab_type": "code",
        "colab": {
          "base_uri": "https://localhost:8080/",
          "height": 67
        },
        "outputId": "caeb3932-e3b7-4266-e46f-b944d222d090"
      },
      "source": [
        "a=input(\"Introducir Verdadero o falso=\")\n",
        "c=float(input(\"introducir valor de c=\"))\n",
        "a=True\n",
        "if(a):\n",
        "  B=3*c\n",
        "  print(\"El valor de B es\", B)\n",
        "else:\n",
        "  B=c+1\n",
        "  print(\"El valor e B es\", B)\n",
        "# FIN DEL IF"
      ],
      "execution_count": 90,
      "outputs": [
        {
          "output_type": "stream",
          "text": [
            "Introducir Verdadero o falso=False \n",
            "introducir valor de c=3\n",
            "El valor de B es 9.0\n"
          ],
          "name": "stdout"
        }
      ]
    },
    {
      "cell_type": "markdown",
      "metadata": {
        "id": "ohgjscXcwjbC",
        "colab_type": "text"
      },
      "source": [
        "**Condicion multiple**"
      ]
    },
    {
      "cell_type": "code",
      "metadata": {
        "id": "DYBNUpBZwnQ9",
        "colab_type": "code",
        "colab": {
          "base_uri": "https://localhost:8080/",
          "height": 101
        },
        "outputId": "e85f084a-c757-49cd-a0d0-6fb330b56be2"
      },
      "source": [
        "\n",
        "# (Caso A)                                                      1 = Asistío\n",
        "#[--------------------------------------------------][----A EXELENTE HONORÍFICA------]\n",
        "#                                                   0.9                               \n",
        "# (Caso B)                                                      0 = No asistó\n",
        "#[--------------------------------------------------][----A EXELENTE HONORÍFICA------]\n",
        "#                                                   0.9                               \n",
        "#     (Caso B_1)   \n",
        "\n",
        "#[--------------------------------------------------]\n",
        "#                                      1=Asistío\n",
        "#                                [B Muy Bien Mención]    \n",
        "#                               8.0\n",
        "#     (Caso B_1)   \n",
        "\n",
        "#[--------------------------------------------------]\n",
        "#                                      0=No Asistío\n",
        "#                                [   B Muy Bien     ]    \n",
        "#                               8.0\n",
        "\n",
        "#               (Caso B_2)   \n",
        "\n",
        "#[------------------º[---------------]\n",
        "#                       \n",
        "#                   [    C Bien     ]    \n",
        "#                  7.5\n",
        "#[  R Reprobado    ]\n",
        "\n",
        "calificacion=float(input(\"dame unca calificacion:\\n\"))\n",
        "print(\"Dame la asistencia: 1 si asistió o 0 si no asistió\")\n",
        "asistencia=int(input())\n",
        "\n",
        "if (calificacion > 9.0 and asistencia ==1):\n",
        "  print(\"La calificacion es A Excelente con mencion Honorífica\")\n",
        "else:\n",
        "    if(calificacion>9.0 and asistencia !=1):\n",
        "      print(\"La calificacion es A Excelente\")\n",
        "    else:\n",
        "        if (calificacion>8.0 and asistencia ==1):\n",
        "          print(\"La calificacion es B Muy bien con Mención\")\n",
        "        else:\n",
        "            if (calificacion>8.0 and asistencia !=1):\n",
        "              print(\"La calificacion es B muy bien\")\n",
        "            else:\n",
        "                if (calificacion >= 7.5):\n",
        "                  print(\"La calificacion es C Bien\")\n",
        "                else:\n",
        "                    print(\" La calificacion es R reprobado. Lo siento mucho\")\n",
        "# Fin del if\n"
      ],
      "execution_count": 95,
      "outputs": [
        {
          "output_type": "stream",
          "text": [
            "dame unca calificacion:\n",
            "3\n",
            "Dame la asistencia: 1 si asistió o 0 si no asistió\n",
            "0\n",
            " La calificacion es R reprobado. Lo siento mucho\n"
          ],
          "name": "stdout"
        }
      ]
    }
  ]
}